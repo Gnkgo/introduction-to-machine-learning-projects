{
 "cells": [
  {
   "cell_type": "markdown",
   "metadata": {},
   "source": [
    "This is a simple test file to check how linear regression works and how to show the results."
   ]
  },
  {
   "cell_type": "code",
   "execution_count": null,
   "metadata": {},
   "outputs": [],
   "source": [
    "import pandas as pd\n",
    "from sklearn.linear_model import LinearRegression\n",
    "from sklearn.metrics import mean_squared_error\n",
    "\n",
    "train_df = pd.read_csv('train0.csv')\n",
    "test_df = pd.read_csv('test0.csv')\n",
    "\n",
    "x_train = train_df.iloc[:, 2:]\n",
    "y_train = train_df.iloc[:, 1]\n",
    "\n",
    "linear_regression = LinearRegression()\n",
    "linear_regression.fit(x_train, y_train)\n",
    "\n",
    "x_test = test_df.iloc[:, 1:]\n",
    "\n",
    "y_test_predict = linear_regression.predict(x_test)\n",
    "y_train_predict = linear_regression.predict(x_train)\n",
    "\n",
    "rmse_train = mean_squared_error(y_train, y_train_predict)**0.5\n",
    "print(\"RMSE on training set:\", rmse_train)\n",
    "\n",
    "submission = pd.DataFrame({'Id': test_df['Id'], 'y': y_test_predict })\n",
    "submission.to_csv('submission.csv', index=False)\n",
    "#pd.DataFrame(linear_regression.coef_, X.colums, colums = \"\")\n",
    "linear_regression.coef_"
   ]
  }
 ],
 "metadata": {
  "language_info": {
   "name": "python"
  }
 },
 "nbformat": 4,
 "nbformat_minor": 2
}
